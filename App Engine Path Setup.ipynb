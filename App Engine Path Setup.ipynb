{
 "cells": [
  {
   "cell_type": "markdown",
   "metadata": {},
   "source": [
    "# App Engine Path Setup\n",
    "\n",
    "It is often required to set up app engine paths manually (i.e. when building a library like `gae-versionedmodel`), so here is a snippet to get started.\n",
    "\n",
    "To keep things simplified, it is required that the user set an environment variable `$APPENGINE_SDK_DIR` that points to the User's `platform/google_appengine` directory."
   ]
  },
  {
   "cell_type": "code",
   "execution_count": 1,
   "metadata": {},
   "outputs": [],
   "source": [
    "def setup_cloud_sdk_paths():\n",
    "  import os\n",
    "  import sys\n",
    "  gae_dir = os.environ.get('APPENGINE_SDK_DIR')\n",
    "  assert gae_dir is not None, 'Please set $APPENGINE_SDK_DIR'\n",
    "  sys.path.append(gae_dir)\n",
    "  # importing dev_appserver handles adding rest of libraries to sys.path\n",
    "  import dev_appserver\n",
    "  dev_appserver.fix_sys_path()\n",
    "\n",
    "import sys\n",
    "\n",
    "paths_need_setup = not any(['google_appengine' in path for path in sys.path])\n",
    "if paths_need_setup:\n",
    "  setup_cloud_sdk_paths()\n",
    "\n",
    "from google.appengine.api.datastore_errors import BadArgumentError"
   ]
  },
  {
   "cell_type": "code",
   "execution_count": null,
   "metadata": {},
   "outputs": [],
   "source": []
  }
 ],
 "metadata": {
  "kernelspec": {
   "display_name": "Python 2",
   "language": "python",
   "name": "python2"
  },
  "language_info": {
   "codemirror_mode": {
    "name": "ipython",
    "version": 2
   },
   "file_extension": ".py",
   "mimetype": "text/x-python",
   "name": "python",
   "nbconvert_exporter": "python",
   "pygments_lexer": "ipython2",
   "version": "2.7.15"
  }
 },
 "nbformat": 4,
 "nbformat_minor": 2
}
